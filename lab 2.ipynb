{
 "cells": [
  {
   "cell_type": "code",
   "execution_count": 1,
   "metadata": {},
   "outputs": [],
   "source": [
    "import socket\n",
    "import threading\n",
    "import time\n",
    "\n",
    "SERVER_HOST = '127.0.0.1'\n",
    "SERVER_PORT = 12345\n",
    "stop_server = False"
   ]
  },
  {
   "cell_type": "markdown",
   "metadata": {},
   "source": [
    "# Задание 1"
   ]
  },
  {
   "cell_type": "code",
   "execution_count": 2,
   "metadata": {},
   "outputs": [],
   "source": [
    "# TCP-сервер\n",
    "def start_tcp_server():\n",
    "    global stop_server\n",
    "    server_socket = socket.socket(socket.AF_INET, socket.SOCK_STREAM)\n",
    "    server_socket.bind((SERVER_HOST, SERVER_PORT))\n",
    "    server_socket.listen(1)\n",
    "\n",
    "    print(f\"Сервер: TCP-сервер запущен на {SERVER_HOST}:{SERVER_PORT}\")\n",
    "    \n",
    "    while True:\n",
    "        time.sleep(2)\n",
    "        if stop_server:\n",
    "            print(\"Сервер: TCP-сервер остановлен\")\n",
    "            server_socket.close()\n",
    "            break\n",
    "        print(\"Сервер: Ожидание подключения клиента...\")\n",
    "        client_socket, client_address = server_socket.accept()\n",
    "        print(f\"Сервер: Клиент {client_address} подключился.\")\n",
    "        \n",
    "        data = client_socket.recv(1024).decode()\n",
    "        print(f\"Сервер: Получено сообщение от клиента: {data}\")\n",
    "        \n",
    "        client_socket.send(data.encode())\n",
    "        print(f\"Сервер: Сообщение отправлено обратно клиенту.\")\n",
    "        \n",
    "        client_socket.close()\n",
    "        print(\"Сервер: Соединение с клиентом закрыто.\")\n",
    "\n",
    "# TCP-клиент\n",
    "def start_tcp_client():\n",
    "    time.sleep(3)\n",
    "\n",
    "    client_socket = socket.socket(socket.AF_INET, socket.SOCK_STREAM)\n",
    "    print(\"Попытка подключения к серверу...\")\n",
    "    client_socket.connect((SERVER_HOST, SERVER_PORT))\n",
    "    print(f\"Подключено к серверу {SERVER_HOST}:{SERVER_PORT}\")\n",
    "    \n",
    "    message = input(\"Введите сообщение для сервера\")\n",
    "    print(f\"Отправка сообщения: {message}\")\n",
    "    client_socket.send(message.encode())\n",
    "    \n",
    "    data = client_socket.recv(1024).decode()\n",
    "    print(f\"Ответ от сервера: {data}\")\n",
    "    \n",
    "    client_socket.close()\n",
    "    print(\"Соединение с сервером закрыто.\")"
   ]
  },
  {
   "cell_type": "code",
   "execution_count": 3,
   "metadata": {},
   "outputs": [
    {
     "name": "stdout",
     "output_type": "stream",
     "text": [
      "Сервер: TCP-сервер запущен на 127.0.0.1:12345\n",
      "Сервер: Ожидание подключения клиента...\n",
      "Попытка подключения к серверу...\n",
      "Подключено к серверу 127.0.0.1:12345\n",
      "Сервер: Клиент ('127.0.0.1', 58959) подключился.\n",
      "Отправка сообщения: Плюс лаба\n",
      "Сервер: Получено сообщение от клиента: Плюс лаба\n",
      "Ответ от сервера: Плюс лаба\n",
      "Сервер: Сообщение отправлено обратно клиенту.\n",
      "Соединение с сервером закрыто.\n",
      "Сервер: Соединение с клиентом закрыто.\n",
      "Сервер: TCP-сервер остановлен\n"
     ]
    }
   ],
   "source": [
    "# Запуск TCP-сервера\n",
    "server_thread = threading.Thread(target=start_tcp_server)\n",
    "server_thread.start()\n",
    "\n",
    "# Запуск TCP-клиента\n",
    "start_tcp_client()\n",
    "\n",
    "# Остановка TCP-сервера\n",
    "time.sleep(1)\n",
    "stop_server = True\n",
    "server_thread.join()"
   ]
  },
  {
   "cell_type": "markdown",
   "metadata": {},
   "source": [
    "# Задание 2"
   ]
  },
  {
   "cell_type": "code",
   "execution_count": 14,
   "metadata": {},
   "outputs": [],
   "source": [
    "stop_server = False"
   ]
  },
  {
   "cell_type": "code",
   "execution_count": 2,
   "metadata": {},
   "outputs": [],
   "source": [
    "# UDP-сервер\n",
    "def start_udp_server():\n",
    "    global stop_server\n",
    "    server_socket = socket.socket(socket.AF_INET, socket.SOCK_DGRAM)\n",
    "    server_socket.bind((SERVER_HOST, SERVER_PORT))\n",
    "    \n",
    "    print(f\"Сервер: UDP-сервер запущен на {SERVER_HOST}:{SERVER_PORT}\")\n",
    "    \n",
    "    while True:\n",
    "        time.sleep(2)\n",
    "        if stop_server:\n",
    "            print(\"Сервер: UDP-сервер остановлен\")\n",
    "            server_socket.close()\n",
    "            break\n",
    "        print(\"Сервер: Ожидание сообщения от клиента...\")\n",
    "        data, client_address = server_socket.recvfrom(1024)\n",
    "        print(f\"Сервер: Получено сообщение от клиента {client_address}: {data.decode()}\")\n",
    "        \n",
    "        server_socket.sendto(data, client_address)\n",
    "        print(f\"Сервер: Сообщение отправлено обратно клиенту {client_address}.\")\n",
    "\n",
    "# UDP-клиент\n",
    "def start_udp_client():\n",
    "    time.sleep(3)\n",
    "\n",
    "    client_socket = socket.socket(socket.AF_INET, socket.SOCK_DGRAM)\n",
    "    \n",
    "    message = input(\"Введите сообщение для сервера\")\n",
    "    print(f\"Отправка сообщения серверу: {message}\")\n",
    "    client_socket.sendto(message.encode(), (SERVER_HOST, SERVER_PORT))\n",
    "    \n",
    "    data, server_address = client_socket.recvfrom(1024)\n",
    "    print(f\"Ответ от сервера: {data.decode()}\")\n",
    "    \n",
    "    client_socket.close()\n",
    "    print(\"Соединение с сервером закрыто.\")"
   ]
  },
  {
   "cell_type": "code",
   "execution_count": 3,
   "metadata": {},
   "outputs": [
    {
     "name": "stdout",
     "output_type": "stream",
     "text": [
      "Сервер: UDP-сервер запущен на 127.0.0.1:12345\n",
      "Сервер: Ожидание сообщения от клиента...\n",
      "Отправка сообщения серверу: Лабы не будет\n",
      "Сервер: Получено сообщение от клиента ('127.0.0.1', 60926): Лабы не будет\n",
      "Сервер: Сообщение отправлено обратно клиенту ('127.0.0.1', 60926).\n",
      "Ответ от сервера: Лабы не будет\n",
      "Соединение с сервером закрыто.\n",
      "Сервер: UDP-сервер остановлен\n"
     ]
    }
   ],
   "source": [
    "# Запуск UDP-сервера\n",
    "server_thread = threading.Thread(target=start_udp_server)\n",
    "server_thread.start()\n",
    "\n",
    "# Запуск UDP-клиента\n",
    "start_udp_client()\n",
    "\n",
    "# Остановка UDP-сервера\n",
    "time.sleep(1)\n",
    "stop_server = True\n",
    "server_thread.join()"
   ]
  }
 ],
 "metadata": {
  "kernelspec": {
   "display_name": "Python 3",
   "language": "python",
   "name": "python3"
  },
  "language_info": {
   "codemirror_mode": {
    "name": "ipython",
    "version": 3
   },
   "file_extension": ".py",
   "mimetype": "text/x-python",
   "name": "python",
   "nbconvert_exporter": "python",
   "pygments_lexer": "ipython3",
   "version": "3.9.13"
  }
 },
 "nbformat": 4,
 "nbformat_minor": 2
}
