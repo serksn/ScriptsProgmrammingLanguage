{
  "nbformat": 4,
  "nbformat_minor": 0,
  "metadata": {
    "colab": {
      "provenance": []
    },
    "kernelspec": {
      "name": "python3",
      "display_name": "Python 3"
    },
    "language_info": {
      "name": "python"
    }
  },
  "cells": [
    {
      "cell_type": "code",
      "execution_count": 30,
      "metadata": {
        "id": "w1GKJL63e5AD"
      },
      "outputs": [],
      "source": [
        "import requests"
      ]
    },
    {
      "cell_type": "markdown",
      "source": [
        "Первое задание"
      ],
      "metadata": {
        "id": "1zfKzla1ivdP"
      }
    },
    {
      "cell_type": "code",
      "source": [
        "url = 'https://jsonplaceholder.typicode.com/posts'"
      ],
      "metadata": {
        "id": "CyV5Tc_aj_76"
      },
      "execution_count": 56,
      "outputs": []
    },
    {
      "cell_type": "code",
      "source": [
        "link = requests.get(url)\n",
        "link.status_code"
      ],
      "metadata": {
        "colab": {
          "base_uri": "https://localhost:8080/"
        },
        "id": "DTa32SFPfWdv",
        "outputId": "c0717e14-ce3e-4a36-9dda-d9475897ee9d"
      },
      "execution_count": 57,
      "outputs": [
        {
          "output_type": "execute_result",
          "data": {
            "text/plain": [
              "200"
            ]
          },
          "metadata": {},
          "execution_count": 57
        }
      ]
    },
    {
      "cell_type": "code",
      "source": [
        "json=link.json()"
      ],
      "metadata": {
        "id": "rS4Dtht_g8Hb"
      },
      "execution_count": 58,
      "outputs": []
    },
    {
      "cell_type": "code",
      "source": [
        "list2 = [element for element in json if element['userId']%2==0]"
      ],
      "metadata": {
        "id": "rZDJZPLii1If"
      },
      "execution_count": 59,
      "outputs": []
    },
    {
      "cell_type": "code",
      "source": [
        "list2"
      ],
      "metadata": {
        "colab": {
          "base_uri": "https://localhost:8080/"
        },
        "id": "z0WksBR8iueP",
        "outputId": "360a02f2-bff4-4910-c6ba-a3abce19ae89"
      },
      "execution_count": 60,
      "outputs": [
        {
          "output_type": "execute_result",
          "data": {
            "text/plain": [
              "[{'userId': 2,\n",
              "  'id': 11,\n",
              "  'title': 'et ea vero quia laudantium autem',\n",
              "  'body': 'delectus reiciendis molestiae occaecati non minima eveniet qui voluptatibus\\naccusamus in eum beatae sit\\nvel qui neque voluptates ut commodi qui incidunt\\nut animi commodi'},\n",
              " {'userId': 2,\n",
              "  'id': 12,\n",
              "  'title': 'in quibusdam tempore odit est dolorem',\n",
              "  'body': 'itaque id aut magnam\\npraesentium quia et ea odit et ea voluptas et\\nsapiente quia nihil amet occaecati quia id voluptatem\\nincidunt ea est distinctio odio'},\n",
              " {'userId': 2,\n",
              "  'id': 13,\n",
              "  'title': 'dolorum ut in voluptas mollitia et saepe quo animi',\n",
              "  'body': 'aut dicta possimus sint mollitia voluptas commodi quo doloremque\\niste corrupti reiciendis voluptatem eius rerum\\nsit cumque quod eligendi laborum minima\\nperferendis recusandae assumenda consectetur porro architecto ipsum ipsam'},\n",
              " {'userId': 2,\n",
              "  'id': 14,\n",
              "  'title': 'voluptatem eligendi optio',\n",
              "  'body': 'fuga et accusamus dolorum perferendis illo voluptas\\nnon doloremque neque facere\\nad qui dolorum molestiae beatae\\nsed aut voluptas totam sit illum'},\n",
              " {'userId': 2,\n",
              "  'id': 15,\n",
              "  'title': 'eveniet quod temporibus',\n",
              "  'body': 'reprehenderit quos placeat\\nvelit minima officia dolores impedit repudiandae molestiae nam\\nvoluptas recusandae quis delectus\\nofficiis harum fugiat vitae'},\n",
              " {'userId': 2,\n",
              "  'id': 16,\n",
              "  'title': 'sint suscipit perspiciatis velit dolorum rerum ipsa laboriosam odio',\n",
              "  'body': 'suscipit nam nisi quo aperiam aut\\nasperiores eos fugit maiores voluptatibus quia\\nvoluptatem quis ullam qui in alias quia est\\nconsequatur magni mollitia accusamus ea nisi voluptate dicta'},\n",
              " {'userId': 2,\n",
              "  'id': 17,\n",
              "  'title': 'fugit voluptas sed molestias voluptatem provident',\n",
              "  'body': 'eos voluptas et aut odit natus earum\\naspernatur fuga molestiae ullam\\ndeserunt ratione qui eos\\nqui nihil ratione nemo velit ut aut id quo'},\n",
              " {'userId': 2,\n",
              "  'id': 18,\n",
              "  'title': 'voluptate et itaque vero tempora molestiae',\n",
              "  'body': 'eveniet quo quis\\nlaborum totam consequatur non dolor\\nut et est repudiandae\\nest voluptatem vel debitis et magnam'},\n",
              " {'userId': 2,\n",
              "  'id': 19,\n",
              "  'title': 'adipisci placeat illum aut reiciendis qui',\n",
              "  'body': 'illum quis cupiditate provident sit magnam\\nea sed aut omnis\\nveniam maiores ullam consequatur atque\\nadipisci quo iste expedita sit quos voluptas'},\n",
              " {'userId': 2,\n",
              "  'id': 20,\n",
              "  'title': 'doloribus ad provident suscipit at',\n",
              "  'body': 'qui consequuntur ducimus possimus quisquam amet similique\\nsuscipit porro ipsam amet\\neos veritatis officiis exercitationem vel fugit aut necessitatibus totam\\nomnis rerum consequatur expedita quidem cumque explicabo'},\n",
              " {'userId': 4,\n",
              "  'id': 31,\n",
              "  'title': 'ullam ut quidem id aut vel consequuntur',\n",
              "  'body': 'debitis eius sed quibusdam non quis consectetur vitae\\nimpedit ut qui consequatur sed aut in\\nquidem sit nostrum et maiores adipisci atque\\nquaerat voluptatem adipisci repudiandae'},\n",
              " {'userId': 4,\n",
              "  'id': 32,\n",
              "  'title': 'doloremque illum aliquid sunt',\n",
              "  'body': 'deserunt eos nobis asperiores et hic\\nest debitis repellat molestiae optio\\nnihil ratione ut eos beatae quibusdam distinctio maiores\\nearum voluptates et aut adipisci ea maiores voluptas maxime'},\n",
              " {'userId': 4,\n",
              "  'id': 33,\n",
              "  'title': 'qui explicabo molestiae dolorem',\n",
              "  'body': 'rerum ut et numquam laborum odit est sit\\nid qui sint in\\nquasi tenetur tempore aperiam et quaerat qui in\\nrerum officiis sequi cumque quod'},\n",
              " {'userId': 4,\n",
              "  'id': 34,\n",
              "  'title': 'magnam ut rerum iure',\n",
              "  'body': 'ea velit perferendis earum ut voluptatem voluptate itaque iusto\\ntotam pariatur in\\nnemo voluptatem voluptatem autem magni tempora minima in\\nest distinctio qui assumenda accusamus dignissimos officia nesciunt nobis'},\n",
              " {'userId': 4,\n",
              "  'id': 35,\n",
              "  'title': 'id nihil consequatur molestias animi provident',\n",
              "  'body': 'nisi error delectus possimus ut eligendi vitae\\nplaceat eos harum cupiditate facilis reprehenderit voluptatem beatae\\nmodi ducimus quo illum voluptas eligendi\\net nobis quia fugit'},\n",
              " {'userId': 4,\n",
              "  'id': 36,\n",
              "  'title': 'fuga nam accusamus voluptas reiciendis itaque',\n",
              "  'body': 'ad mollitia et omnis minus architecto odit\\nvoluptas doloremque maxime aut non ipsa qui alias veniam\\nblanditiis culpa aut quia nihil cumque facere et occaecati\\nqui aspernatur quia eaque ut aperiam inventore'},\n",
              " {'userId': 4,\n",
              "  'id': 37,\n",
              "  'title': 'provident vel ut sit ratione est',\n",
              "  'body': 'debitis et eaque non officia sed nesciunt pariatur vel\\nvoluptatem iste vero et ea\\nnumquam aut expedita ipsum nulla in\\nvoluptates omnis consequatur aut enim officiis in quam qui'},\n",
              " {'userId': 4,\n",
              "  'id': 38,\n",
              "  'title': 'explicabo et eos deleniti nostrum ab id repellendus',\n",
              "  'body': 'animi esse sit aut sit nesciunt assumenda eum voluptas\\nquia voluptatibus provident quia necessitatibus ea\\nrerum repudiandae quia voluptatem delectus fugit aut id quia\\nratione optio eos iusto veniam iure'},\n",
              " {'userId': 4,\n",
              "  'id': 39,\n",
              "  'title': 'eos dolorem iste accusantium est eaque quam',\n",
              "  'body': 'corporis rerum ducimus vel eum accusantium\\nmaxime aspernatur a porro possimus iste omnis\\nest in deleniti asperiores fuga aut\\nvoluptas sapiente vel dolore minus voluptatem incidunt ex'},\n",
              " {'userId': 4,\n",
              "  'id': 40,\n",
              "  'title': 'enim quo cumque',\n",
              "  'body': 'ut voluptatum aliquid illo tenetur nemo sequi quo facilis\\nipsum rem optio mollitia quas\\nvoluptatem eum voluptas qui\\nunde omnis voluptatem iure quasi maxime voluptas nam'},\n",
              " {'userId': 6,\n",
              "  'id': 51,\n",
              "  'title': 'soluta aliquam aperiam consequatur illo quis voluptas',\n",
              "  'body': 'sunt dolores aut doloribus\\ndolore doloribus voluptates tempora et\\ndoloremque et quo\\ncum asperiores sit consectetur dolorem'},\n",
              " {'userId': 6,\n",
              "  'id': 52,\n",
              "  'title': 'qui enim et consequuntur quia animi quis voluptate quibusdam',\n",
              "  'body': 'iusto est quibusdam fuga quas quaerat molestias\\na enim ut sit accusamus enim\\ntemporibus iusto accusantium provident architecto\\nsoluta esse reprehenderit qui laborum'},\n",
              " {'userId': 6,\n",
              "  'id': 53,\n",
              "  'title': 'ut quo aut ducimus alias',\n",
              "  'body': 'minima harum praesentium eum rerum illo dolore\\nquasi exercitationem rerum nam\\nporro quis neque quo\\nconsequatur minus dolor quidem veritatis sunt non explicabo similique'},\n",
              " {'userId': 6,\n",
              "  'id': 54,\n",
              "  'title': 'sit asperiores ipsam eveniet odio non quia',\n",
              "  'body': 'totam corporis dignissimos\\nvitae dolorem ut occaecati accusamus\\nex velit deserunt\\net exercitationem vero incidunt corrupti mollitia'},\n",
              " {'userId': 6,\n",
              "  'id': 55,\n",
              "  'title': 'sit vel voluptatem et non libero',\n",
              "  'body': 'debitis excepturi ea perferendis harum libero optio\\neos accusamus cum fuga ut sapiente repudiandae\\net ut incidunt omnis molestiae\\nnihil ut eum odit'},\n",
              " {'userId': 6,\n",
              "  'id': 56,\n",
              "  'title': 'qui et at rerum necessitatibus',\n",
              "  'body': 'aut est omnis dolores\\nneque rerum quod ea rerum velit pariatur beatae excepturi\\net provident voluptas corrupti\\ncorporis harum reprehenderit dolores eligendi'},\n",
              " {'userId': 6,\n",
              "  'id': 57,\n",
              "  'title': 'sed ab est est',\n",
              "  'body': 'at pariatur consequuntur earum quidem\\nquo est laudantium soluta voluptatem\\nqui ullam et est\\net cum voluptas voluptatum repellat est'},\n",
              " {'userId': 6,\n",
              "  'id': 58,\n",
              "  'title': 'voluptatum itaque dolores nisi et quasi',\n",
              "  'body': 'veniam voluptatum quae adipisci id\\net id quia eos ad et dolorem\\naliquam quo nisi sunt eos impedit error\\nad similique veniam'},\n",
              " {'userId': 6,\n",
              "  'id': 59,\n",
              "  'title': 'qui commodi dolor at maiores et quis id accusantium',\n",
              "  'body': 'perspiciatis et quam ea autem temporibus non voluptatibus qui\\nbeatae a earum officia nesciunt dolores suscipit voluptas et\\nanimi doloribus cum rerum quas et magni\\net hic ut ut commodi expedita sunt'},\n",
              " {'userId': 6,\n",
              "  'id': 60,\n",
              "  'title': 'consequatur placeat omnis quisquam quia reprehenderit fugit veritatis facere',\n",
              "  'body': 'asperiores sunt ab assumenda cumque modi velit\\nqui esse omnis\\nvoluptate et fuga perferendis voluptas\\nillo ratione amet aut et omnis'},\n",
              " {'userId': 8,\n",
              "  'id': 71,\n",
              "  'title': 'et iusto veniam et illum aut fuga',\n",
              "  'body': 'occaecati a doloribus\\niste saepe consectetur placeat eum voluptate dolorem et\\nqui quo quia voluptas\\nrerum ut id enim velit est perferendis'},\n",
              " {'userId': 8,\n",
              "  'id': 72,\n",
              "  'title': 'sint hic doloribus consequatur eos non id',\n",
              "  'body': 'quam occaecati qui deleniti consectetur\\nconsequatur aut facere quas exercitationem aliquam hic voluptas\\nneque id sunt ut aut accusamus\\nsunt consectetur expedita inventore velit'},\n",
              " {'userId': 8,\n",
              "  'id': 73,\n",
              "  'title': 'consequuntur deleniti eos quia temporibus ab aliquid at',\n",
              "  'body': 'voluptatem cumque tenetur consequatur expedita ipsum nemo quia explicabo\\naut eum minima consequatur\\ntempore cumque quae est et\\net in consequuntur voluptatem voluptates aut'},\n",
              " {'userId': 8,\n",
              "  'id': 74,\n",
              "  'title': 'enim unde ratione doloribus quas enim ut sit sapiente',\n",
              "  'body': 'odit qui et et necessitatibus sint veniam\\nmollitia amet doloremque molestiae commodi similique magnam et quam\\nblanditiis est itaque\\nquo et tenetur ratione occaecati molestiae tempora'},\n",
              " {'userId': 8,\n",
              "  'id': 75,\n",
              "  'title': 'dignissimos eum dolor ut enim et delectus in',\n",
              "  'body': 'commodi non non omnis et voluptas sit\\nautem aut nobis magnam et sapiente voluptatem\\net laborum repellat qui delectus facilis temporibus\\nrerum amet et nemo voluptate expedita adipisci error dolorem'},\n",
              " {'userId': 8,\n",
              "  'id': 76,\n",
              "  'title': 'doloremque officiis ad et non perferendis',\n",
              "  'body': 'ut animi facere\\ntotam iusto tempore\\nmolestiae eum aut et dolorem aperiam\\nquaerat recusandae totam odio'},\n",
              " {'userId': 8,\n",
              "  'id': 77,\n",
              "  'title': 'necessitatibus quasi exercitationem odio',\n",
              "  'body': 'modi ut in nulla repudiandae dolorum nostrum eos\\naut consequatur omnis\\nut incidunt est omnis iste et quam\\nvoluptates sapiente aliquam asperiores nobis amet corrupti repudiandae provident'},\n",
              " {'userId': 8,\n",
              "  'id': 78,\n",
              "  'title': 'quam voluptatibus rerum veritatis',\n",
              "  'body': 'nobis facilis odit tempore cupiditate quia\\nassumenda doloribus rerum qui ea\\nillum et qui totam\\naut veniam repellendus'},\n",
              " {'userId': 8,\n",
              "  'id': 79,\n",
              "  'title': 'pariatur consequatur quia magnam autem omnis non amet',\n",
              "  'body': 'libero accusantium et et facere incidunt sit dolorem\\nnon excepturi qui quia sed laudantium\\nquisquam molestiae ducimus est\\nofficiis esse molestiae iste et quos'},\n",
              " {'userId': 8,\n",
              "  'id': 80,\n",
              "  'title': 'labore in ex et explicabo corporis aut quas',\n",
              "  'body': 'ex quod dolorem ea eum iure qui provident amet\\nquia qui facere excepturi et repudiandae\\nasperiores molestias provident\\nminus incidunt vero fugit rerum sint sunt excepturi provident'},\n",
              " {'userId': 10,\n",
              "  'id': 91,\n",
              "  'title': 'aut amet sed',\n",
              "  'body': 'libero voluptate eveniet aperiam sed\\nsunt placeat suscipit molestias\\nsimilique fugit nam natus\\nexpedita consequatur consequatur dolores quia eos et placeat'},\n",
              " {'userId': 10,\n",
              "  'id': 92,\n",
              "  'title': 'ratione ex tenetur perferendis',\n",
              "  'body': 'aut et excepturi dicta laudantium sint rerum nihil\\nlaudantium et at\\na neque minima officia et similique libero et\\ncommodi voluptate qui'},\n",
              " {'userId': 10,\n",
              "  'id': 93,\n",
              "  'title': 'beatae soluta recusandae',\n",
              "  'body': 'dolorem quibusdam ducimus consequuntur dicta aut quo laboriosam\\nvoluptatem quis enim recusandae ut sed sunt\\nnostrum est odit totam\\nsit error sed sunt eveniet provident qui nulla'},\n",
              " {'userId': 10,\n",
              "  'id': 94,\n",
              "  'title': 'qui qui voluptates illo iste minima',\n",
              "  'body': 'aspernatur expedita soluta quo ab ut similique\\nexpedita dolores amet\\nsed temporibus distinctio magnam saepe deleniti\\nomnis facilis nam ipsum natus sint similique omnis'},\n",
              " {'userId': 10,\n",
              "  'id': 95,\n",
              "  'title': 'id minus libero illum nam ad officiis',\n",
              "  'body': 'earum voluptatem facere provident blanditiis velit laboriosam\\npariatur accusamus odio saepe\\ncumque dolor qui a dicta ab doloribus consequatur omnis\\ncorporis cupiditate eaque assumenda ad nesciunt'},\n",
              " {'userId': 10,\n",
              "  'id': 96,\n",
              "  'title': 'quaerat velit veniam amet cupiditate aut numquam ut sequi',\n",
              "  'body': 'in non odio excepturi sint eum\\nlabore voluptates vitae quia qui et\\ninventore itaque rerum\\nveniam non exercitationem delectus aut'},\n",
              " {'userId': 10,\n",
              "  'id': 97,\n",
              "  'title': 'quas fugiat ut perspiciatis vero provident',\n",
              "  'body': 'eum non blanditiis soluta porro quibusdam voluptas\\nvel voluptatem qui placeat dolores qui velit aut\\nvel inventore aut cumque culpa explicabo aliquid at\\nperspiciatis est et voluptatem dignissimos dolor itaque sit nam'},\n",
              " {'userId': 10,\n",
              "  'id': 98,\n",
              "  'title': 'laboriosam dolor voluptates',\n",
              "  'body': 'doloremque ex facilis sit sint culpa\\nsoluta assumenda eligendi non ut eius\\nsequi ducimus vel quasi\\nveritatis est dolores'},\n",
              " {'userId': 10,\n",
              "  'id': 99,\n",
              "  'title': 'temporibus sit alias delectus eligendi possimus magni',\n",
              "  'body': 'quo deleniti praesentium dicta non quod\\naut est molestias\\nmolestias et officia quis nihil\\nitaque dolorem quia'},\n",
              " {'userId': 10,\n",
              "  'id': 100,\n",
              "  'title': 'at nam consequatur ea labore ea harum',\n",
              "  'body': 'cupiditate quo est a modi nesciunt soluta\\nipsa voluptas error itaque dicta in\\nautem qui minus magnam et distinctio eum\\naccusamus ratione error aut'}]"
            ]
          },
          "metadata": {},
          "execution_count": 60
        }
      ]
    },
    {
      "cell_type": "markdown",
      "source": [
        "Второе задание"
      ],
      "metadata": {
        "id": "KcOym0UVk8B8"
      }
    },
    {
      "cell_type": "code",
      "source": [
        "myposts = {\n",
        "    \"userId\": 1,\n",
        "    \"title\": \"Тестовый пост\",\n",
        "    \"body\": \"душнила\"\n",
        "}\n",
        "\n",
        "response = requests.post(url, json = myposts)\n",
        "\n",
        "print(response.text)"
      ],
      "metadata": {
        "colab": {
          "base_uri": "https://localhost:8080/"
        },
        "id": "a4aWcZSdjREa",
        "outputId": "fc33a2b6-5b6b-44b3-88fa-b50fa1c2b75e"
      },
      "execution_count": 64,
      "outputs": [
        {
          "output_type": "stream",
          "name": "stdout",
          "text": [
            "{\n",
            "  \"userId\": 1,\n",
            "  \"title\": \"Тестовый пост\",\n",
            "  \"body\": \"душнила\",\n",
            "  \"id\": 101\n",
            "}\n"
          ]
        }
      ]
    },
    {
      "cell_type": "markdown",
      "source": [
        "Третье задание"
      ],
      "metadata": {
        "id": "VXum9RF_neva"
      }
    },
    {
      "cell_type": "code",
      "source": [
        "updatedJson = {\n",
        "    \"title\": \"Обновлённый пост\",\n",
        "}\n",
        "res = requests.put(url+'/2', data=updatedJson)\n",
        "print(res.text)"
      ],
      "metadata": {
        "colab": {
          "base_uri": "https://localhost:8080/"
        },
        "id": "z2cVDWcij-v5",
        "outputId": "76fbae63-7e86-4dab-c642-1183c9bad794"
      },
      "execution_count": 70,
      "outputs": [
        {
          "output_type": "stream",
          "name": "stdout",
          "text": [
            "{\n",
            "  \"title\": \"Обновлённый пост\",\n",
            "  \"id\": 2\n",
            "}\n"
          ]
        }
      ]
    }
  ]
}