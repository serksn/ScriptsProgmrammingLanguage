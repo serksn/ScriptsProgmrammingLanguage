{
 "cells": [
  {
   "cell_type": "code",
   "execution_count": 1,
   "metadata": {},
   "outputs": [],
   "source": [
    "import sqlite3\n",
    "import requests\n"
   ]
  },
  {
   "cell_type": "code",
   "execution_count": 2,
   "metadata": {},
   "outputs": [
    {
     "name": "stdout",
     "output_type": "stream",
     "text": [
      "Подключение к базе данных произошло успешно\n",
      "Таблица posts создана.\n"
     ]
    }
   ],
   "source": [
    "conn = sqlite3.connect('labDataBase.db')\n",
    "print(\"Подключение к базе данных произошло успешно\")\n",
    "cursor = conn.cursor()\n",
    "\n",
    "cursor.execute('''\n",
    "    CREATE TABLE IF NOT EXISTS posts (\n",
    "        id INTEGER PRIMARY KEY,\n",
    "        user_id INTEGER,\n",
    "        title TEXT,\n",
    "        body TEXT\n",
    "    )\n",
    "''')\n",
    "\n",
    "conn.commit()\n",
    "print(\"Таблица posts создана.\")\n"
   ]
  },
  {
   "cell_type": "code",
   "execution_count": 3,
   "metadata": {},
   "outputs": [
    {
     "name": "stdout",
     "output_type": "stream",
     "text": [
      "Данные успешно получены.\n"
     ]
    }
   ],
   "source": [
    "response = requests.get('https://jsonplaceholder.typicode.com/posts')\n",
    "\n",
    "if response.status_code == 200:\n",
    "    posts = response.json()\n",
    "    print(\"Данные успешно получены.\")\n",
    "else:\n",
    "    print(f\"Ошибка получения данных: {response.status_code}\")\n"
   ]
  },
  {
   "cell_type": "code",
   "execution_count": 6,
   "metadata": {},
   "outputs": [
    {
     "name": "stdout",
     "output_type": "stream",
     "text": [
      "Таблица posts очищена.\n"
     ]
    }
   ],
   "source": [
    "# чисто для проверки работоспособности написанной ниже функции\n",
    "def clear_posts_table():\n",
    "    cursor.execute('DELETE FROM posts')\n",
    "    conn.commit()\n",
    "    print(\"Таблица posts очищена.\")\n",
    "\n",
    "clear_posts_table()\n"
   ]
  },
  {
   "cell_type": "code",
   "execution_count": 7,
   "metadata": {},
   "outputs": [
    {
     "name": "stdout",
     "output_type": "stream",
     "text": [
      "Добавлен пост с id 1.\n",
      "Добавлен пост с id 2.\n",
      "Добавлен пост с id 3.\n",
      "Добавлен пост с id 4.\n",
      "Добавлен пост с id 5.\n",
      "Добавлен пост с id 6.\n",
      "Добавлен пост с id 7.\n",
      "Добавлен пост с id 8.\n",
      "Добавлен пост с id 9.\n",
      "Добавлен пост с id 10.\n",
      "Добавлен пост с id 11.\n",
      "Добавлен пост с id 12.\n",
      "Добавлен пост с id 13.\n",
      "Добавлен пост с id 14.\n",
      "Добавлен пост с id 15.\n",
      "Добавлен пост с id 16.\n",
      "Добавлен пост с id 17.\n",
      "Добавлен пост с id 18.\n",
      "Добавлен пост с id 19.\n",
      "Добавлен пост с id 20.\n",
      "Добавлен пост с id 21.\n",
      "Добавлен пост с id 22.\n",
      "Добавлен пост с id 23.\n",
      "Добавлен пост с id 24.\n",
      "Добавлен пост с id 25.\n",
      "Добавлен пост с id 26.\n",
      "Добавлен пост с id 27.\n",
      "Добавлен пост с id 28.\n",
      "Добавлен пост с id 29.\n",
      "Добавлен пост с id 30.\n",
      "Добавлен пост с id 31.\n",
      "Добавлен пост с id 32.\n",
      "Добавлен пост с id 33.\n",
      "Добавлен пост с id 34.\n",
      "Добавлен пост с id 35.\n",
      "Добавлен пост с id 36.\n",
      "Добавлен пост с id 37.\n",
      "Добавлен пост с id 38.\n",
      "Добавлен пост с id 39.\n",
      "Добавлен пост с id 40.\n",
      "Добавлен пост с id 41.\n",
      "Добавлен пост с id 42.\n",
      "Добавлен пост с id 43.\n",
      "Добавлен пост с id 44.\n",
      "Добавлен пост с id 45.\n",
      "Добавлен пост с id 46.\n",
      "Добавлен пост с id 47.\n",
      "Добавлен пост с id 48.\n",
      "Добавлен пост с id 49.\n",
      "Добавлен пост с id 50.\n",
      "Добавлен пост с id 51.\n",
      "Добавлен пост с id 52.\n",
      "Добавлен пост с id 53.\n",
      "Добавлен пост с id 54.\n",
      "Добавлен пост с id 55.\n",
      "Добавлен пост с id 56.\n",
      "Добавлен пост с id 57.\n",
      "Добавлен пост с id 58.\n",
      "Добавлен пост с id 59.\n",
      "Добавлен пост с id 60.\n",
      "Добавлен пост с id 61.\n",
      "Добавлен пост с id 62.\n",
      "Добавлен пост с id 63.\n",
      "Добавлен пост с id 64.\n",
      "Добавлен пост с id 65.\n",
      "Добавлен пост с id 66.\n",
      "Добавлен пост с id 67.\n",
      "Добавлен пост с id 68.\n",
      "Добавлен пост с id 69.\n",
      "Добавлен пост с id 70.\n",
      "Добавлен пост с id 71.\n",
      "Добавлен пост с id 72.\n",
      "Добавлен пост с id 73.\n",
      "Добавлен пост с id 74.\n",
      "Добавлен пост с id 75.\n",
      "Добавлен пост с id 76.\n",
      "Добавлен пост с id 77.\n",
      "Добавлен пост с id 78.\n",
      "Добавлен пост с id 79.\n",
      "Добавлен пост с id 80.\n",
      "Добавлен пост с id 81.\n",
      "Добавлен пост с id 82.\n",
      "Добавлен пост с id 83.\n",
      "Добавлен пост с id 84.\n",
      "Добавлен пост с id 85.\n",
      "Добавлен пост с id 86.\n",
      "Добавлен пост с id 87.\n",
      "Добавлен пост с id 88.\n",
      "Добавлен пост с id 89.\n",
      "Добавлен пост с id 90.\n",
      "Добавлен пост с id 91.\n",
      "Добавлен пост с id 92.\n",
      "Добавлен пост с id 93.\n",
      "Добавлен пост с id 94.\n",
      "Добавлен пост с id 95.\n",
      "Добавлен пост с id 96.\n",
      "Добавлен пост с id 97.\n",
      "Добавлен пост с id 98.\n",
      "Добавлен пост с id 99.\n",
      "Добавлен пост с id 100.\n",
      "Данные сохранены в базу данных.\n"
     ]
    }
   ],
   "source": [
    "for post in posts:\n",
    "    cursor.execute('''\n",
    "        SELECT COUNT(*) FROM posts WHERE id = ?\n",
    "    ''', (post['id'],))\n",
    "    \n",
    "    count = cursor.fetchone()[0]\n",
    "    \n",
    "    if count == 0:\n",
    "        cursor.execute('''\n",
    "            INSERT INTO posts (id, user_id, title, body)\n",
    "            VALUES (?, ?, ?, ?)\n",
    "        ''', (post['id'], post['userId'], post['title'], post['body']))\n",
    "        print(f\"Добавлен пост с id {post['id']}.\")\n",
    "    else:\n",
    "        print(f\"Пост с id {post['id']} уже существует в базе данных.\")\n",
    "\n",
    "conn.commit()\n",
    "print(\"Данные сохранены в базу данных.\")"
   ]
  },
  {
   "cell_type": "code",
   "execution_count": 8,
   "metadata": {},
   "outputs": [
    {
     "name": "stdout",
     "output_type": "stream",
     "text": [
      "Post ID: 1, Title: sunt aut facere repellat provident occaecati excepturi optio reprehenderit, Body: quia et suscipit\n",
      "suscipit recusandae consequuntur expedita et cum\n",
      "reprehenderit molestiae ut ut quas totam\n",
      "nostrum rerum est autem sunt rem eveniet architecto\n",
      "Post ID: 2, Title: qui est esse, Body: est rerum tempore vitae\n",
      "sequi sint nihil reprehenderit dolor beatae ea dolores neque\n",
      "fugiat blanditiis voluptate porro vel nihil molestiae ut reiciendis\n",
      "qui aperiam non debitis possimus qui neque nisi nulla\n",
      "Post ID: 3, Title: ea molestias quasi exercitationem repellat qui ipsa sit aut, Body: et iusto sed quo iure\n",
      "voluptatem occaecati omnis eligendi aut ad\n",
      "voluptatem doloribus vel accusantium quis pariatur\n",
      "molestiae porro eius odio et labore et velit aut\n",
      "Post ID: 4, Title: eum et est occaecati, Body: ullam et saepe reiciendis voluptatem adipisci\n",
      "sit amet autem assumenda provident rerum culpa\n",
      "quis hic commodi nesciunt rem tenetur doloremque ipsam iure\n",
      "quis sunt voluptatem rerum illo velit\n",
      "Post ID: 5, Title: nesciunt quas odio, Body: repudiandae veniam quaerat sunt sed\n",
      "alias aut fugiat sit autem sed est\n",
      "voluptatem omnis possimus esse voluptatibus quis\n",
      "est aut tenetur dolor neque\n",
      "Post ID: 6, Title: dolorem eum magni eos aperiam quia, Body: ut aspernatur corporis harum nihil quis provident sequi\n",
      "mollitia nobis aliquid molestiae\n",
      "perspiciatis et ea nemo ab reprehenderit accusantium quas\n",
      "voluptate dolores velit et doloremque molestiae\n",
      "Post ID: 7, Title: magnam facilis autem, Body: dolore placeat quibusdam ea quo vitae\n",
      "magni quis enim qui quis quo nemo aut saepe\n",
      "quidem repellat excepturi ut quia\n",
      "sunt ut sequi eos ea sed quas\n",
      "Post ID: 8, Title: dolorem dolore est ipsam, Body: dignissimos aperiam dolorem qui eum\n",
      "facilis quibusdam animi sint suscipit qui sint possimus cum\n",
      "quaerat magni maiores excepturi\n",
      "ipsam ut commodi dolor voluptatum modi aut vitae\n",
      "Post ID: 9, Title: nesciunt iure omnis dolorem tempora et accusantium, Body: consectetur animi nesciunt iure dolore\n",
      "enim quia ad\n",
      "veniam autem ut quam aut nobis\n",
      "et est aut quod aut provident voluptas autem voluptas\n",
      "Post ID: 10, Title: optio molestias id quia eum, Body: quo et expedita modi cum officia vel magni\n",
      "doloribus qui repudiandae\n",
      "vero nisi sit\n",
      "quos veniam quod sed accusamus veritatis error\n"
     ]
    }
   ],
   "source": [
    "def get_posts_by_user(user_id):\n",
    "    cursor.execute('''\n",
    "        SELECT * FROM posts WHERE user_id = ?\n",
    "    ''', (user_id,))\n",
    "    return cursor.fetchall()\n",
    "\n",
    "user_id = 1\n",
    "user_posts = get_posts_by_user(user_id)\n",
    "\n",
    "if user_posts:\n",
    "    for post in user_posts:\n",
    "        print(f\"Post ID: {post[0]}, Title: {post[2]}, Body: {post[3]}\")\n",
    "else:\n",
    "    print(f\"Посты для user_id {user_id} не найдены.\")\n"
   ]
  },
  {
   "cell_type": "code",
   "execution_count": 9,
   "metadata": {},
   "outputs": [],
   "source": [
    "conn.close()"
   ]
  }
 ],
 "metadata": {
  "kernelspec": {
   "display_name": "Python 3",
   "language": "python",
   "name": "python3"
  },
  "language_info": {
   "codemirror_mode": {
    "name": "ipython",
    "version": 3
   },
   "file_extension": ".py",
   "mimetype": "text/x-python",
   "name": "python",
   "nbconvert_exporter": "python",
   "pygments_lexer": "ipython3",
   "version": "3.9.13"
  }
 },
 "nbformat": 4,
 "nbformat_minor": 2
}
